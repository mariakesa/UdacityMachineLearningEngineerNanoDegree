{
 "cells": [
  {
   "cell_type": "code",
   "execution_count": 1,
   "metadata": {},
   "outputs": [],
   "source": [
    "from models import DQN\n",
    "import torch\n",
    "from utils import convert_multiple_layers,print_layer_information,one_hot_action, one_hot_action_arr\n",
    "from receptive_fields import plot_receptive_fields, plot_behavior_receptive_fields, fit_pca\n",
    "import matplotlib.pyplot as plt\n",
    "import numpy as np"
   ]
  },
  {
   "cell_type": "code",
   "execution_count": null,
   "metadata": {},
   "outputs": [],
   "source": [
    "rl_net=DQN(\"DemonAttack-v0\")\n",
    "PATH='C:/Users/koester_lab/Documents/Maria/UdacityMachineLearningEngineerNanoDegree/dqn_model.pth'\n",
    "rl_net.net.load_state_dict(torch.load(PATH))\n",
    "PATH='C:/Users/koester_lab/Documents/Maria/UdacityMachineLearningEngineerNanoDegree/dqn_target_model.pth'\n",
    "rl_net.target_net.load_state_dict(torch.load(PATH))\n",
    "rl_net.run_n_episodes(env=rl_net.env,n_epsiodes=3,epsilon=0.0)\n",
    "inds=[3,5,7]\n",
    "activations=rl_net.activations\n",
    "ts=convert_multiple_layers(inds,activations)"
   ]
  },
  {
   "cell_type": "code",
   "execution_count": null,
   "metadata": {},
   "outputs": [],
   "source": [
    "V=fit_pca(ts)"
   ]
  }
 ],
 "metadata": {
  "kernelspec": {
   "display_name": "Python 3",
   "language": "python",
   "name": "python3"
  },
  "language_info": {
   "codemirror_mode": {
    "name": "ipython",
    "version": 3
   },
   "file_extension": ".py",
   "mimetype": "text/x-python",
   "name": "python",
   "nbconvert_exporter": "python",
   "pygments_lexer": "ipython3",
   "version": "3.8.3"
  }
 },
 "nbformat": 4,
 "nbformat_minor": 4
}
