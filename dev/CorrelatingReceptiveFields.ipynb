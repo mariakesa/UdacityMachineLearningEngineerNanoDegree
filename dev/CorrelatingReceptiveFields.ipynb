{
 "cells": [
  {
   "cell_type": "code",
   "execution_count": 5,
   "metadata": {},
   "outputs": [],
   "source": [
    "from models import DQN\n",
    "import torch\n",
    "from utils import convert_multiple_layers,print_layer_information,one_hot_action, one_hot_action_arr\n",
    "from receptive_fields import plot_receptive_fields, plot_behavior_receptive_fields, fit_pca, fit_ep,compute_rfield\n",
    "import matplotlib.pyplot as plt\n",
    "import numpy as np"
   ]
  },
  {
   "cell_type": "code",
   "execution_count": 2,
   "metadata": {},
   "outputs": [],
   "source": [
    "rl_net=DQN(\"DemonAttack-v0\")\n",
    "PATH='C:/Users/koester_lab/Documents/Maria/UdacityMachineLearningEngineerNanoDegree/dqn_model.pth'\n",
    "rl_net.net.load_state_dict(torch.load(PATH))\n",
    "PATH='C:/Users/koester_lab/Documents/Maria/UdacityMachineLearningEngineerNanoDegree/dqn_target_model.pth'\n",
    "rl_net.target_net.load_state_dict(torch.load(PATH))\n",
    "rl_net.run_n_episodes(env=rl_net.env,n_epsiodes=3,epsilon=0.0)\n",
    "inds=[3,5,7]\n",
    "activations=rl_net.activations\n",
    "ts=convert_multiple_layers(inds,activations)"
   ]
  },
  {
   "cell_type": "code",
   "execution_count": 3,
   "metadata": {},
   "outputs": [],
   "source": [
    "imgs=rl_net.im_arr\n",
    "actions=rl_net.actions_record\n",
    "action_one_hot_arr=one_hot_action_arr(actions)"
   ]
  },
  {
   "cell_type": "markdown",
   "metadata": {},
   "source": [
    "# Action Receptive Fields"
   ]
  },
  {
   "cell_type": "code",
   "execution_count": 7,
   "metadata": {},
   "outputs": [],
   "source": [
    "rf_weights_actions=compute_rfield(imgs,action_one_hot_arr.T)"
   ]
  },
  {
   "cell_type": "code",
   "execution_count": 8,
   "metadata": {
    "scrolled": true
   },
   "outputs": [
    {
     "name": "stdout",
     "output_type": "stream",
     "text": [
      "(84, 84, 5)\n"
     ]
    }
   ],
   "source": [
    "print(rf_weights_actions.shape)"
   ]
  },
  {
   "cell_type": "code",
   "execution_count": 9,
   "metadata": {},
   "outputs": [],
   "source": [
    "rf_weights_actions=rf_weights_actions.reshape(84*84,-1)"
   ]
  },
  {
   "cell_type": "markdown",
   "metadata": {},
   "source": [
    "# PCA"
   ]
  },
  {
   "cell_type": "code",
   "execution_count": 10,
   "metadata": {},
   "outputs": [],
   "source": [
    "V=fit_pca(ts)\n"
   ]
  },
  {
   "cell_type": "code",
   "execution_count": 11,
   "metadata": {},
   "outputs": [],
   "source": [
    "rf_weights_pca=compute_rfield(imgs,V)"
   ]
  },
  {
   "cell_type": "code",
   "execution_count": 12,
   "metadata": {},
   "outputs": [],
   "source": [
    "rf_weights_pca=rf_weights_pca.reshape(84*84,-1)"
   ]
  },
  {
   "cell_type": "markdown",
   "metadata": {},
   "source": [
    "# Correlation"
   ]
  },
  {
   "cell_type": "code",
   "execution_count": 20,
   "metadata": {},
   "outputs": [],
   "source": [
    "corr_arr=[]\n",
    "for j in range(0,100):\n",
    "    V_corrs=[]\n",
    "    for i in range(0,5):\n",
    "        V_corrs.append(np.corrcoef(rf_weights_pca[:,j],rf_weights_actions[:,i])[0,1])\n",
    "    corr_arr.append(V_corrs)\n",
    "corr_arr=np.array(corr_arr)"
   ]
  },
  {
   "cell_type": "code",
   "execution_count": 21,
   "metadata": {},
   "outputs": [
    {
     "data": {
      "text/plain": [
       "<matplotlib.axes._subplots.AxesSubplot at 0x1af83c7a340>"
      ]
     },
     "execution_count": 21,
     "metadata": {},
     "output_type": "execute_result"
    },
    {
     "data": {
      "image/png": "[encoded data removed]",
      "text/plain": [
       "<Figure size 432x288 with 2 Axes>"
      ]
     },
     "metadata": {
      "needs_background": "light"
     },
     "output_type": "display_data"
    }
   ],
   "source": [
    "import seaborn as sns\n",
    "sns.heatmap(corr_arr)"
   ]
  }
 ],
 "metadata": {
  "kernelspec": {
   "display_name": "Python 3",
   "language": "python",
   "name": "python3"
  },
  "language_info": {
   "codemirror_mode": {
    "name": "ipython",
    "version": 3
   },
   "file_extension": ".py",
   "mimetype": "text/x-python",
   "name": "python",
   "nbconvert_exporter": "python",
   "pygments_lexer": "ipython3",
   "version": "3.8.3"
  }
 },
 "nbformat": 4,
 "nbformat_minor": 4
}
